{
 "cells": [
  {
   "cell_type": "markdown",
   "metadata": {},
   "source": [
    "## レポート課題8-1"
   ]
  },
  {
   "cell_type": "markdown",
   "metadata": {},
   "source": [
    "$0.5-0.1-0.1-0.1-0.1-0.1$をPython上で計算しなさい。その上で、結果が $0$ にならない理由を具体的に説明してください。"
   ]
  },
  {
   "cell_type": "code",
   "execution_count": 3,
   "metadata": {},
   "outputs": [
    {
     "name": "stdout",
     "output_type": "stream",
     "text": [
      "2.7755575615628914e-17\n"
     ]
    }
   ],
   "source": [
    "result = 0.5-0.1-0.1-0.1-0.1-0.1\n",
    "print(result)\n",
    "\n",
    "# ＜結果が0にならない理由＞\n",
    "# コンピュータの浮動小数点数の表現が原因\n",
    "# 浮動小数点数の表現は有限のビット数で行われるため、すべての実数を正確に表現することができない。\n",
    "# その結果、計算にわずかな誤差が生じることがあり、この誤差が累積されることで、理論的には0になるはずの計算結果が0にならないことがある。"
   ]
  },
  {
   "cell_type": "markdown",
   "metadata": {},
   "source": [
    "## レポート課題8-2"
   ]
  },
  {
   "cell_type": "markdown",
   "metadata": {},
   "source": [
    "NumPy に含まれる線形代数の関数群を使って線形代数に関わる任意の計算を行いなさい。ただし、単純な内積や外積ではなく，たとえば行列の固有値や線型方程式の解を求めること。"
   ]
  },
  {
   "cell_type": "code",
   "execution_count": 12,
   "metadata": {},
   "outputs": [
    {
     "name": "stdout",
     "output_type": "stream",
     "text": [
      "固有値\n",
      "[ 5.37228132 -0.37228132]\n",
      "固有ベクトル\n",
      "[[ 0.82456484 -0.41597356]\n",
      " [ 0.56576746  0.90937671]]\n"
     ]
    }
   ],
   "source": [
    "import numpy as np\n",
    "\n",
    "A = np.array([[4,2],[3,1]])\n",
    "\n",
    "A_eig = np.linalg.eig(A)\n",
    "\n",
    "print(\"固有値\")\n",
    "print(A_eig[0])\n",
    "print(\"固有ベクトル\")\n",
    "print(A_eig[1])\n",
    "\n",
    "\n",
    "\n",
    "# 以下個人的メモ\n",
    "# `np.linalg.eig()`のAPIドキュメントより.\n",
    "\n",
    "# `args`: a: (..., M, M) という行列 （形状の配列）.\n",
    "# `returns`: w: (..., M) の固有値. v: (..., M, M) の固有ベクトル.\n",
    "# returns より　、インデックス0に固有値、インデックス1に固有ベクトルが格納されている。"
   ]
  },
  {
   "cell_type": "markdown",
   "metadata": {},
   "source": [
    "##########################################################################################"
   ]
  },
  {
   "cell_type": "markdown",
   "metadata": {},
   "source": [
    "レポート課題に取り組み，プログラムと結果を.ipynb形式のファイルに保存してCoursePowerから提出しなさい． \n",
    "\n",
    "提出ファイル名：CBReport08_学籍番号_英字氏名.ipynb\n",
    "\n",
    " 例えば，学籍番号12345678の青山太郎の場合は，CBReport08_12345678_AoyamaTaro.ipynb　というファイル名で提出する．\n"
   ]
  }
 ],
 "metadata": {
  "kernelspec": {
   "display_name": "Python 3 (ipykernel)",
   "language": "python",
   "name": "python3"
  },
  "language_info": {
   "codemirror_mode": {
    "name": "ipython",
    "version": 3
   },
   "file_extension": ".py",
   "mimetype": "text/x-python",
   "name": "python",
   "nbconvert_exporter": "python",
   "pygments_lexer": "ipython3",
   "version": "3.9.13"
  },
  "vscode": {
   "interpreter": {
    "hash": "5315ae3fd6c0fedbfa62f4dc4a1864d51f63ce0027740b00abe23bd790e5ebdc"
   }
  }
 },
 "nbformat": 4,
 "nbformat_minor": 2
}
