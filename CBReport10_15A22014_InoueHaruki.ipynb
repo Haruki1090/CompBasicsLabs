{
 "cells": [
  {
   "cell_type": "markdown",
   "metadata": {},
   "source": [
    "## レポート課題10"
   ]
  },
  {
   "cell_type": "markdown",
   "metadata": {},
   "source": [
    "方程式 $x^4-3x+1=0$ をニュートン法および二分法を用いて解け．2つの数値解法について，コードセルをそれぞれ別に作成すること．"
   ]
  },
  {
   "cell_type": "code",
   "execution_count": 10,
   "metadata": {
    "vscode": {
     "languageId": "ruby"
    }
   },
   "outputs": [
    {
     "name": "stdout",
     "output_type": "stream",
     "text": [
      "1.307486100962016\n"
     ]
    }
   ],
   "source": [
    "import numpy as np\n",
    "\n",
    "# 定義された方程式\n",
    "def f(x):\n",
    "    return x**4 - 3*x + 1\n",
    "\n",
    "# 方程式の微分\n",
    "def f_prime(x):\n",
    "    return 4*x**3 - 3\n",
    "\n",
    "# ニュートン法の実装\n",
    "def newton_method(f, f_prime, x0, tol=1e-6, max_iter=100):\n",
    "    x = x0\n",
    "    for _ in range(max_iter):\n",
    "        x_new = x - f(x) / f_prime(x)\n",
    "        if abs(x_new - x) < tol:\n",
    "            return x_new\n",
    "        x = x_new\n",
    "    raise ValueError(\"収束しませんでした\")\n",
    "\n",
    "# 初期値の設定\n",
    "initial_guess = 1.0\n",
    "\n",
    "# ニュートン法による解の計算\n",
    "root_newton = newton_method(f, f_prime, initial_guess)\n",
    "print(root_newton)\n"
   ]
  },
  {
   "cell_type": "code",
   "execution_count": 11,
   "metadata": {},
   "outputs": [
    {
     "name": "stdout",
     "output_type": "stream",
     "text": [
      "0.33766651153564453\n"
     ]
    }
   ],
   "source": [
    "import numpy as np\n",
    "\n",
    "def f(x):\n",
    "    return x**4 - 3*x + 1\n",
    "\n",
    "# 二分法\n",
    "def bisection_method(f, a, b, tol=1e-6, max_iter=100):\n",
    "    if f(a) * f(b) >= 0:\n",
    "        raise ValueError(\"関数の符号が同じです\")\n",
    "    \n",
    "    for _ in range(max_iter):\n",
    "        c = (a + b) / 2\n",
    "        if abs(f(c)) < tol or (b - a) / 2 < tol:\n",
    "            return c\n",
    "        if f(c) * f(a) < 0:\n",
    "            b = c\n",
    "        else:\n",
    "            a = c\n",
    "    raise ValueError(\"収束しませんでした\")\n",
    "\n",
    "# 新しい区間の設定\n",
    "a = 0\n",
    "b = 1\n",
    "\n",
    "# 二分法による解の計算\n",
    "root_bisection = bisection_method(f, a, b)\n",
    "print(root_bisection)\n"
   ]
  },
  {
   "cell_type": "markdown",
   "metadata": {},
   "source": [
    "##########################################################################################"
   ]
  },
  {
   "cell_type": "markdown",
   "metadata": {},
   "source": [
    "レポート課題に取り組み，プログラムと結果を.ipynb形式のファイルに保存してCoursePowerから提出しなさい． \n",
    "\n",
    "提出ファイル名：CBReport10_学籍番号_英字氏名.ipynb\n",
    "\n",
    " 例えば，学籍番号12345678の青山太郎の場合は，CBReport10_12345678_AoyamaTaro.ipynb　というファイル名で提出する．\n"
   ]
  },
  {
   "cell_type": "markdown",
   "metadata": {},
   "source": []
  }
 ],
 "metadata": {
  "kernelspec": {
   "display_name": "Python 3 (ipykernel)",
   "language": "python",
   "name": "python3"
  },
  "language_info": {
   "codemirror_mode": {
    "name": "ipython",
    "version": 3
   },
   "file_extension": ".py",
   "mimetype": "text/x-python",
   "name": "python",
   "nbconvert_exporter": "python",
   "pygments_lexer": "ipython3",
   "version": "3.9.13"
  },
  "vscode": {
   "interpreter": {
    "hash": "5315ae3fd6c0fedbfa62f4dc4a1864d51f63ce0027740b00abe23bd790e5ebdc"
   }
  }
 },
 "nbformat": 4,
 "nbformat_minor": 2
}
