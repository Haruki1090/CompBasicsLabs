{
 "cells": [
  {
   "cell_type": "markdown",
   "metadata": {},
   "source": [
    "## レポート課題3-1"
   ]
  },
  {
   "cell_type": "markdown",
   "metadata": {},
   "source": [
    "２次方程式 $ax^2+bx+c=0$ の実数解を求めるプログラムをヒントにある条件を考慮して作成してください．なお，平方根はスクリプトファイルの1行目に「`import math`」というおまじないを書き，「`a`」という変数の平方根が欲しい場合は「`math.sqrt(a)`」として下さい．  \n",
    "（`import abc` というコードは，「`abc`」という名前の「モジュール」もしくは「パッケージ」を外部から読み込んで，python 上でも `abc` という名前で用いることを意味します．詳細についてはのちの授業で紹介します．）\n",
    "\n",
    "**ヒント１**\n",
    "\n",
    "解の公式より，判別式を $D=b^2−4ac$ とし以下のパターンに場合分けします．\n",
    "\n",
    "1. 係数 $a,b$  がともに $0$ ならば解は存在しない．\n",
    "\n",
    "1. 係数 $a$ が $0$ であり，係数 $b$ が $0$ でなければ1次式であり解は1つ．\n",
    "\n",
    "1. 係数 $a$ が $0$ でなく，判別式 $D$ が $0$ より大きければ2つの実数解．\n",
    "\n",
    "1. 係数 $a$ が $0$  でなく，判別式 $D$  が $0$ であれば重解．\n",
    "\n",
    "1. 係数 $a$ が $0$  でなく，判別式 $D$ が $0$ より小さければ実数解なし（虚数解）．\n",
    "\n",
    "**【出力イメージ】**  \n",
    "$ax^2 + bx + c = 0$ の係数$a$, $b$, $c$を入力してください\n",
    "\n",
    "\n",
    "$a$は？\n",
    "\n",
    "\n",
    "1\n",
    "\n",
    "\n",
    "$b$は？\n",
    "\n",
    "\n",
    "$4$\n",
    "\n",
    "\n",
    "$c$は？\n",
    "\n",
    "\n",
    "$3$\n",
    "\n",
    "\n",
    "解は2つあり，$x_1= -1.0$ , $x_2= -3.0$"
   ]
  },
  {
   "cell_type": "markdown",
   "metadata": {},
   "source": [
    "**ヒント2**: 「自分で考えよう」と書かれてある部分を適切に書けば正解例のひとつとなります．なお，入出力にかかわる文字列以外に全角文字を使うとエラーの原因となりやすいため，実行するコードに全角文字が残っていないことを注意深く確認してください．"
   ]
  },
  {
   "cell_type": "code",
   "execution_count": 1,
   "metadata": {},
   "outputs": [
    {
     "name": "stdout",
     "output_type": "stream",
     "text": [
      "ax^2 + bx + c = 0 の係数a, b, cを入力してください\n",
      "aは？\n",
      "bは？\n",
      "cは？\n",
      "解は2つあり，x1= -1.0 , x2= -3.0\n"
     ]
    }
   ],
   "source": [
    "import math\n",
    "\n",
    "print(\"ax^2 + bx + c = 0 の係数a, b, cを入力してください\")\n",
    "print(\"aは？\")\n",
    "a = int(input())\n",
    "print(\"bは？\")\n",
    "b = int(input())\n",
    "print(\"cは？\")\n",
    "c = int(input())\n",
    "\n",
    "if a == 0:\n",
    "    if a==0 and b==0:\n",
    "        print(\"係数がおかしい\")\n",
    "    else:\n",
    "        x = -c / b\n",
    "        print(\"解は%f\" %x )\n",
    "else:\n",
    "    D = b**2 - 4*a*c\n",
    "    if D > 0:\n",
    "        x1 = (-b + math.sqrt(D)) / (2 * a)\n",
    "        x2 = (-b - math.sqrt(D)) / (2 * a)\n",
    "        print(\"解は2つあり，x1=\",  x1, \", x2=\", x2)\n",
    "    elif D == 0:\n",
    "        x = (-b)/2\n",
    "        print(\"解は重解となり，x=\", x)\n",
    "    else:\n",
    "        print(\"解は虚数解となり，実数解は存在しない\")"
   ]
  },
  {
   "cell_type": "markdown",
   "metadata": {},
   "source": [
    "## レポート課題3-2"
   ]
  },
  {
   "cell_type": "markdown",
   "metadata": {},
   "source": [
    "pythonでは正の数の２乗は `x**2` で計算できますが，冪（べき）演算や乗算を用いずに，敢えて足し算とループ文を用いて，入力した変数の２乗を出力するプログラムを作ってください．\n",
    "\n",
    "【出力例】\n",
    "\n",
    "自由に整数を入力してください？\n",
    "\n",
    "5\n",
    "\n",
    "5 の2乗は 25"
   ]
  },
  {
   "cell_type": "code",
   "execution_count": 2,
   "metadata": {},
   "outputs": [
    {
     "name": "stdout",
     "output_type": "stream",
     "text": [
      "nを入力してください\n",
      "25\n"
     ]
    }
   ],
   "source": [
    "print(\"nを入力してください\")\n",
    "n = int(input())\n",
    "sum = 0\n",
    "for i in range(n):\n",
    "    sum += n\n",
    "print(sum)"
   ]
  },
  {
   "cell_type": "markdown",
   "metadata": {},
   "source": [
    "## レポート課題3-3"
   ]
  },
  {
   "cell_type": "markdown",
   "metadata": {},
   "source": [
    "次のプログラムは「総当たり法」を用いて，与えられた整数 $x$ に対して「整数で表現できる立方根」を求めるプログラムです（整数で表現できる立方根がある場合（e.g. $2^3=8$ ）とない場合（e.g. $7$ ）で表示を変更しています）．下記のプログラムを穴埋めし完成させなさい．（`abs(x)` は `x` の絶対値を返す関数です）  \n",
    "なお，「総当たり法」とは，ここでは $0$ から順番に全ての数について条件に当てはまるか否か調べる方法のことです．\n",
    "\n",
    "\n",
    "\n",
    "【出力例】\n",
    "\n",
    "任意の整数を入力してください？-8\n",
    "\n",
    "-8 の完全立方は -2"
   ]
  },
  {
   "cell_type": "code",
   "execution_count": 3,
   "metadata": {},
   "outputs": [
    {
     "name": "stdout",
     "output_type": "stream",
     "text": [
      "-8 の完全立方は -2\n"
     ]
    }
   ],
   "source": [
    "x = int(input(\"任意の整数を入力してください？\"))\n",
    "for cube_root in range(abs(x)): # 0から与えた整数の絶対値までくり返すループ\n",
    "    if cube_root**3 >= abs(x): # 0から与えられた整数xの絶対値まで順にカウンタ変数cube_rootを３乗し，xの絶対値以上の場合ループを抜ける\n",
    "        break\n",
    "if cube_root**3 != abs(x): # ループを抜けたときにおいて，cube_rootの３乗がxの絶対値の３乗に等しくない場合\n",
    "    print(x, \"は完全立方ではありません．\")\n",
    "else:                      # ループを抜けたときにおいて，cube_rootの３乗がxの３乗に等しい場合\n",
    "    if x < 0:              # xが負の場合\n",
    "         cube_root = cube_root*(-1) #cube_rootを負にする\n",
    "    print(x, \"の完全立方は\", cube_root)"
   ]
  },
  {
   "cell_type": "markdown",
   "metadata": {},
   "source": [
    "## レポート課題3-4"
   ]
  },
  {
   "cell_type": "markdown",
   "metadata": {},
   "source": [
    "次のプログラムは，またもや「総当たり法」を用いて平方根のおおよその値（近似値）を求めるプログラムです．実際の答えからある一定の範囲内（epsilon）にある答えを十分に近いものとして近似値を計算します．  $x=25$  と  $x=123456$ について計算して出力の違いを確認して下さい．\n",
    "\n",
    "【出力例】\n",
    "\n",
    "0.0 12345\n",
    "\n",
    "\n",
    "repCount = 1234500\n",
    "\n",
    "\n",
    "12345 の平方根（近似値）を作れませんでした"
   ]
  },
  {
   "cell_type": "code",
   "execution_count": 4,
   "metadata": {},
   "outputs": [
    {
     "name": "stdout",
     "output_type": "stream",
     "text": [
      "0.0 25\n",
      "repCount = 499\n",
      "4.989999999999938 は 25 の平方根にとても近いです．\n"
     ]
    }
   ],
   "source": [
    "x = 25 # 与える整数\n",
    "epsilon = 0.1 # ほぼ同じ値とみなす範囲\n",
    "step = epsilon**2 # 刻み幅の設定\n",
    "repCount = 0\n",
    "ans = 0.0 # 近似的な平方根を表す数\n",
    "print(ans, x)\n",
    "while abs(ans**2 - x) >= epsilon and ans**2 <= x: # stepの刻み幅で大きくなる数ansの２乗と与えた整数の差の絶対値がepsilonの範囲以上，かつansが与えた整数以下という条件\n",
    "    ans += step  # stepの刻み幅だけ大きくする\n",
    "    repCount+= 1 # カウンタ変数を1増やす\n",
    "    #print(ans)\n",
    "print(\"repCount =\", repCount) # 繰り返し回数の表示\n",
    "if  abs(ans**2 - x) >= epsilon: # ansの２乗と与えた整数の差の絶対値がepsilonの範囲以上という条件\n",
    "    print(x, \"の平方根（近似値）を作れませんでした．\")\n",
    "else:                          # ansの２乗と与えた整数の差の絶対値がepsilonの範囲未満という条件\n",
    "    print(ans, \"は\", x, \"の平方根にとても近いです．\")"
   ]
  },
  {
   "cell_type": "markdown",
   "metadata": {},
   "source": [
    "$x=25$ の場合には平方根の近似値を`epsilon`の範囲内で求めることに成功しますが，$x=12345$の場合には平方根の近似値を求めることに失敗しています． 上述の結果は，ステップサイズ（`step`）が大きすぎ，`epsilon`の範囲内で近似値を見つけることが出来なかったことが原因となっています．"
   ]
  },
  {
   "cell_type": "markdown",
   "metadata": {},
   "source": [
    "##########################################################################################"
   ]
  },
  {
   "cell_type": "markdown",
   "metadata": {},
   "source": [
    "レポート課題に取り組み，プログラムと結果を.ipynb形式のファイルに保存してCoursePowerから提出しなさい．\n",
    "\n",
    "提出ファイル名：CBReport03_学籍番号_英字氏名.ipynb\n",
    "\n",
    " 例えば，学籍番号12345678の青山太郎の場合は，CBReport03_12345678_AoyamaTaro.ipynb　というファイル名で提出する．\n"
   ]
  },
  {
   "cell_type": "markdown",
   "metadata": {},
   "source": [
    "・提出先：　Course　Powerのレポート第3回\n",
    "\n"
   ]
  },
  {
   "cell_type": "markdown",
   "metadata": {},
   "source": []
  }
 ],
 "metadata": {
  "kernelspec": {
   "display_name": "Python 3 (ipykernel)",
   "language": "python",
   "name": "python3"
  },
  "language_info": {
   "codemirror_mode": {
    "name": "ipython",
    "version": 3
   },
   "file_extension": ".py",
   "mimetype": "text/x-python",
   "name": "python",
   "nbconvert_exporter": "python",
   "pygments_lexer": "ipython3",
   "version": "3.9.13"
  },
  "vscode": {
   "interpreter": {
    "hash": "5315ae3fd6c0fedbfa62f4dc4a1864d51f63ce0027740b00abe23bd790e5ebdc"
   }
  }
 },
 "nbformat": 4,
 "nbformat_minor": 2
}
