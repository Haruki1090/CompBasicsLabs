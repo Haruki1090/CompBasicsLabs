{
 "cells": [
  {
   "cell_type": "markdown",
   "metadata": {},
   "source": [
    "## レポート課題2-1\n",
    "今日学んだ，「演算」「変数（整数型・文字列型）」「入力関数」を用いて，簡単なプログラムを作成しなさい． プログラムを .ipynb 形式のファイルに保存して CoursePower から提出しなさい．たとえば，このファイルにコードセルを追加して，プログラムを記入・実行してよい．他の人と異なるプログラムを高く評価する． "
   ]
  },
  {
   "cell_type": "markdown",
   "metadata": {},
   "source": [
    "\n"
   ]
  },
  {
   "cell_type": "code",
   "execution_count": 1,
   "metadata": {},
   "outputs": [
    {
     "name": "stdout",
     "output_type": "stream",
     "text": [
      "あなたの誕生日の西暦を入力してください。1月または2月の場合は、年を1減らし、月をそれぞれ13、14として入力してください。\n",
      "その日の曜日は 水曜日 です。\n"
     ]
    }
   ],
   "source": [
    "# 実行目的\n",
    "# モジュロ演算によるツェラーの公式を用いて、誕生日の曜日を出力する。\n",
    "\n",
    "# 仕様\n",
    "# ユーザーに誕生日を入力してもらい、その日が何曜日かを出力する。\n",
    "# ただし条件分岐を使わずに、特定の場合のみユーザーに入力情報を変更して入力してもらうようにする。\n",
    "\n",
    "# ユーザー入力\n",
    "print(\"あなたの誕生日の西暦を入力してください。1月または2月の場合は、年を1減らし、月をそれぞれ13、14として入力してください。\")\n",
    "year = int(input(\"西暦（例: 2022、1月の場合は2021）: \"))\n",
    "month = int(input(\"月（例: 1月の場合は13、2月の場合は14）: \"))\n",
    "day = int(input(\"日: \"))\n",
    "\n",
    "# 曜日の対応表\n",
    "weekdays = [\"土曜日\", \"日曜日\", \"月曜日\", \"火曜日\", \"水曜日\", \"木曜日\", \"金曜日\"]\n",
    "\n",
    "k = year % 100\n",
    "j = year // 100\n",
    "\n",
    "# 曜日の計算\n",
    "day_of_week = (day + ((13 * (month + 1)) // 5) + k + (k // 4) + (j // 4) - (2 * j)) % 7\n",
    "\n",
    "# 出力\n",
    "print(f\"あなたの誕生日は {year} 年 {month} 月 {day} 日です。\")\n",
    "\n",
    "# 曜日の表示 (f-stringで曜日を表示)\n",
    "print(f\"その日の曜日は {weekdays[day_of_week]} です。\")"
   ]
  }
 ],
 "metadata": {
  "kernelspec": {
   "display_name": "Python 3 (ipykernel)",
   "language": "python",
   "name": "python3"
  },
  "language_info": {
   "codemirror_mode": {
    "name": "ipython",
    "version": 3
   },
   "file_extension": ".py",
   "mimetype": "text/x-python",
   "name": "python",
   "nbconvert_exporter": "python",
   "pygments_lexer": "ipython3",
   "version": "3.9.13"
  },
  "vscode": {
   "interpreter": {
    "hash": "5315ae3fd6c0fedbfa62f4dc4a1864d51f63ce0027740b00abe23bd790e5ebdc"
   }
  }
 },
 "nbformat": 4,
 "nbformat_minor": 2
}
