{
 "cells": [
  {
   "cell_type": "markdown",
   "metadata": {},
   "source": [
    "## レポート課題6-1"
   ]
  },
  {
   "cell_type": "markdown",
   "metadata": {},
   "source": [
    "辺の長さを指定することで「正三角形の面積」「正三角柱の体積」「正三角柱の表面積」を計算する関数を作成し，すべて実行しなさい．（他の人と異なるプログラムを評価します）\n",
    "\n",
    "ヒント：[mathライブラリ](http://docs.python.jp/3/library/math.html)にある三角関数や平方根の関数を利用すると良い．"
   ]
  },
  {
   "cell_type": "code",
   "execution_count": 4,
   "metadata": {},
   "outputs": [
    {
     "name": "stdout",
     "output_type": "stream",
     "text": [
      "正三角形の面積: 10.8\n",
      "正三角柱の体積: 108.3\n",
      "正三角柱の表面積: 171.7\n"
     ]
    }
   ],
   "source": [
    "import math\n",
    "\n",
    "def triangle_area(side):\n",
    "    return (math.sqrt(3) / 4) * (side ** 2)\n",
    "\n",
    "def prism_volume(side, height):\n",
    "    base_area = triangle_area(side)\n",
    "    return base_area * height\n",
    "\n",
    "def prism_surface_area(side, height):\n",
    "    base_area = triangle_area(side)\n",
    "    lateral_area = 3 * side * height\n",
    "    return 2 * base_area + lateral_area\n",
    "\n",
    "side = int(input(\"正三角形の一辺の長さを入力してください: \"))\n",
    "height = int(input(\"正三角柱の高さを入力してください: \"))\n",
    "\n",
    "area = triangle_area(side)\n",
    "volume = prism_volume(side, height)\n",
    "surface_area = prism_surface_area(side, height)\n",
    "\n",
    "print(\"正三角形の面積: {:.1f}\".format(area))\n",
    "print(\"正三角柱の体積: {:.1f}\".format(volume))\n",
    "print(\"正三角柱の表面積: {:.1f}\".format(surface_area))"
   ]
  },
  {
   "cell_type": "markdown",
   "metadata": {},
   "source": [
    "## レポート課題6-2"
   ]
  },
  {
   "cell_type": "markdown",
   "metadata": {},
   "source": [
    "再帰を用いて「最大公約数」「最大公倍数」を計算する関数を作成し，実行しなさい．（ただし，mathライブラリに用意されている最大公約数の関数 `math.gcd()` など，ライブラリで提供されている機能は使わないこと）"
   ]
  },
  {
   "cell_type": "code",
   "execution_count": 5,
   "metadata": {},
   "outputs": [
    {
     "name": "stdout",
     "output_type": "stream",
     "text": [
      "最大公約数 (GCD): 10\n",
      "最小公倍数 (LCM): 0\n"
     ]
    }
   ],
   "source": [
    "def gcd(a, b):\n",
    "    if b == 0:\n",
    "        return a\n",
    "    else:\n",
    "        return gcd(b, a % b)\n",
    "\n",
    "def lcm(a, b):\n",
    "    return abs(a * b) // gcd(a, b)\n",
    "\n",
    "num1 = int(input(\"最大公約数と最小公倍数を求める2つの整数を入力してください (1つ目): \"))\n",
    "num2 = int(input(\"最大公約数と最小公倍数を求める2つの整数を入力してください (2つ目): \"))\n",
    "\n",
    "greatest_common_divisor = gcd(num1, num2)\n",
    "least_common_multiple = lcm(num1, num2)\n",
    "\n",
    "print(\"最大公約数 (GCD):\", greatest_common_divisor)\n",
    "print(\"最小公倍数 (LCM):\", least_common_multiple)\n"
   ]
  },
  {
   "cell_type": "markdown",
   "metadata": {},
   "source": [
    "## レポート課題6-3"
   ]
  },
  {
   "cell_type": "markdown",
   "metadata": {},
   "source": [
    "レポート課題6-1で作成した3つの関数を，モジュールファイル（\".py\" で終わる名前のファイル）の中にまとめなさい．そのうえで，作成したモジュールファイルを import 文によりモジュールとして読み込んで，モジュール内の関数をすべて実行しなさい．"
   ]
  },
  {
   "cell_type": "code",
   "execution_count": 1,
   "metadata": {},
   "outputs": [
    {
     "name": "stdout",
     "output_type": "stream",
     "text": [
      "正三角形の面積: 10.825\n",
      "正三角柱の体積: 108.253\n",
      "正三角柱の表面積: 171.651\n"
     ]
    }
   ],
   "source": [
    "import geometry_utils as gu\n",
    "\n",
    "side_length = int(input(\"正三角形の一辺の長さを入力してください: \"))\n",
    "height = int(input(\"正三角柱の高さを入力してください: \"))\n",
    "\n",
    "triangle_area = gu.triangle_area(side_length)\n",
    "print(\"正三角形の面積: {:.3f}\".format(triangle_area))\n",
    "\n",
    "prism_volume = gu.prism_volume(side_length, height)\n",
    "print(\"正三角柱の体積: {:.3f}\".format(prism_volume))\n",
    "\n",
    "prism_surface_area = gu.prism_surface_area(side_length, height)\n",
    "print(\"正三角柱の表面積: {:.3f}\".format(prism_surface_area))"
   ]
  },
  {
   "cell_type": "markdown",
   "metadata": {},
   "source": [
    "**※ この課題では，作成した .py ファイルも提出すること．**"
   ]
  },
  {
   "cell_type": "markdown",
   "metadata": {},
   "source": [
    "##########################################################################################"
   ]
  },
  {
   "cell_type": "markdown",
   "metadata": {},
   "source": [
    "レポート課題に取り組み，プログラムと結果を .ipynb 形式のファイルに保存して，作成した .py ファイルとともに CoursePower から提出しなさい．\n",
    "\n",
    "提出ファイル名：CBReport06_学籍番号_英字氏名.ipynb\n",
    "\n",
    " 例えば，学籍番号12345678の青山太郎の場合は，CBReport06_12345678_AoyamaTaro.ipynb　というファイル名で提出する．\n"
   ]
  }
 ],
 "metadata": {
  "kernelspec": {
   "display_name": "Python 3 (ipykernel)",
   "language": "python",
   "name": "python3"
  },
  "language_info": {
   "codemirror_mode": {
    "name": "ipython",
    "version": 3
   },
   "file_extension": ".py",
   "mimetype": "text/x-python",
   "name": "python",
   "nbconvert_exporter": "python",
   "pygments_lexer": "ipython3",
   "version": "3.9.13"
  },
  "vscode": {
   "interpreter": {
    "hash": "5315ae3fd6c0fedbfa62f4dc4a1864d51f63ce0027740b00abe23bd790e5ebdc"
   }
  }
 },
 "nbformat": 4,
 "nbformat_minor": 2
}
