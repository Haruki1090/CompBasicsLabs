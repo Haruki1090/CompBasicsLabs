{
  "cells": [
    {
      "cell_type": "markdown",
      "metadata": {
        "id": "0QN8zqi9Pqis"
      },
      "source": [
        "# はじめに"
      ]
    },
    {
      "cell_type": "markdown",
      "metadata": {
        "id": "V2bIZVTcPqit"
      },
      "source": [
        "「計算機応用実習」では，数式処理システムである Mathematica を用いて簡単なプログラミングを行いました．本授業「計算機基礎実習」では，プログラミング言語である **Python** を用いて，より高度なプログラミングを行うことを目指します．\n",
        "\n",
        "本授業では，Web ブラウザに表示される「ノートブック」上で操作しながら Python のプログラミングを行うことができる **Jupyter Notebook** を用います．（この文章を読んでいるということは，すでに Jupyter Notebook を起動できていることになります．）\n",
        "\n",
        "Jupyter Notebook では，Mathematica のノートブックと同様に，計算結果として図表を表示することが可能です．データの分析や可視化が効率的に行えるため，現在では Python のプログラミング環境として Jupyter Notebook を用いることが一般的になっています．\n",
        "\n",
        "なお，本授業では理解を深めるため，Python におけるプログラミングについて，適宜 Mathematica と対比しながら説明を進めます．計算機応用実習の資料を手元に用意しておくと理解がしやすいかもしれません．\n",
        "\n"
      ]
    },
    {
      "cell_type": "markdown",
      "metadata": {
        "id": "oEYu95WuPqit"
      },
      "source": [
        "## 1 ノートブックを開く\n",
        "\n",
        "Google Colaboratory にログインすることで，Google 社の用意したサーバー上で Jupyter Notebook を用いることができます．この場合，手元の端末から遠隔で操作を行うことになるため，ノートブック（.ipynb ファイル）を開くには，最初にノートブックを Google 社のサーバー上にアップロードする必要があります．  \n",
        "Google Colaboratory (以下，Google Colab と略すことがあります) のページ上でこの文章を読んでいる場合，すでに Google Colab のサーバー上にファイルを一度アップロードしていることになります．\n",
        "\n",
        "ノートブックの中では，**セル**と呼ばれる長方形の枠が上下に並んでいます．例えば，一番上の「はじめに」と書かれたセルを1回クリックすると，枠線が現れ，これが1単位のセルとなっていることがわかります．さらに，このセルをダブルクリックしてみましょう．「`# はじめに`」と入力された編集用のテキストボックスが現れるはずです．この内容は Markdown と呼ばれる記法に従って書かれており，「`#`」は「`はじめに`」という文字列が見出しであることを表しています．\n",
        "\n",
        "本授業では Markdown については特に扱いません．ひとまずは，非常に簡略化された TeX のようなものであるという理解をしておけば問題ないと思います．\n",
        "\n",
        "セルが編集可能となった状態で，キーボードから「Shift＋Enter」または「Ctrl＋Enter」を押すと，書かれている内容が確定し，元の表示に戻ります．（「X＋Y」は「X」のキーを押しながら「Y」のキーを押すことを表します．）誤ってセルの編集画面が表示されても慌てないようにしましょう．\n"
      ]
    },
    {
      "cell_type": "markdown",
      "metadata": {
        "id": "BmxYwHsF0GsM"
      },
      "source": [
        "## 2 プログラムの実行\n",
        "\n",
        "次に，簡単な計算をやってみましょう．\n",
        "\n",
        "下の「1」が書かれているセル上にマウスポインタを動かしてクリックしてください．このようにセルを選択した状態で，キーボードで「Shift＋Enter」または「Ctrl＋Enter」を押すと，書かれているプログラムが実行されます．"
      ]
    },
    {
      "cell_type": "code",
      "execution_count": null,
      "metadata": {
        "colab": {
          "base_uri": "https://localhost:8080/"
        },
        "id": "VukFvwIn1xWD",
        "outputId": "1d278b31-87e5-4079-d42e-eb7ed64bcbe1",
        "scrolled": true
      },
      "outputs": [
        {
          "data": {
            "text/plain": [
              "1"
            ]
          },
          "execution_count": 2,
          "metadata": {},
          "output_type": "execute_result"
        }
      ],
      "source": [
        "1"
      ]
    },
    {
      "cell_type": "markdown",
      "metadata": {
        "id": "Rs_fVZsi0GsQ"
      },
      "source": [
        "「1」という**計算結果**が表示されたでしょうか．\n",
        "\n",
        "Mathematica と同様に，「1」という文字列を入力してから「Shift＋Enter」または「Ctrl＋Enter」を押すことで，入力に対して計算や操作が実行され，結果が出力されます．このことを，プログラム（の）**コード**を**実行**する，または**プログラム**を**実行**するといいます（Mathematica では「評価する」という言い方をしていましたが，Python では「実行する」という言い方のほうが普通です）．\n",
        "\n",
        "上のセルでは，「`1`」という文字列を入力し，この `1` がプログラミング言語である Python のコードとして解釈・実行され，結果として 1 が出力されています．\n",
        "\n",
        "なお，Jupyter Notebook のセルは，このセルのように文章を書くための**テキストセル**（Markdown セル）と、プログラムコードを入力するための**コードセル**とに分かれています．「Shift＋Enter」または「Ctrl＋Enter」でコードが実行されるのは，コードセルだけとなります．\n",
        "\n",
        "もう少し複雑なコードを実行してみましょう．"
      ]
    },
    {
      "cell_type": "code",
      "execution_count": 2,
      "metadata": {
        "colab": {
          "base_uri": "https://localhost:8080/"
        },
        "id": "dPegLEQvPqiu",
        "outputId": "2b2964d2-379d-46c4-e9e1-3b83e5700f46"
      },
      "outputs": [
        {
          "data": {
            "text/plain": [
              "15.64"
            ]
          },
          "execution_count": 2,
          "metadata": {},
          "output_type": "execute_result"
        }
      ],
      "source": [
        "10*(5 - 15/4) + 3.14"
      ]
    },
    {
      "cell_type": "markdown",
      "metadata": {
        "id": "4iXcH9TtPqiu"
      },
      "source": [
        "入力されている数式に対応する計算結果が表示されたはずです．また，上のコードセルを選択し，書かれた式を少し変えてから実行すると計算結果が変わりますので，試してみましょう．\n",
        "\n",
        "なお，「プログラマーがコードを実行する」ことや「コードが実行されて計算が進んでいく」ことを，英語では \"A programmer runs a code.\" や \"The code runs.\" のように表現することがあります．この直訳で，日本語でも「コードを走らせる」「コードが走る」という言い方をすることがあります．"
      ]
    },
    {
      "cell_type": "markdown",
      "metadata": {
        "id": "Yb6mIciIPqiu"
      },
      "source": [
        "ところで，以下の空（カラ）のコードセルに `10!` と入力して実行してみてください．（注意：エラーが出ます）"
      ]
    },
    {
      "cell_type": "code",
      "execution_count": null,
      "metadata": {
        "colab": {
          "base_uri": "https://localhost:8080/",
          "height": 110
        },
        "id": "aGoLMl4qPqiv",
        "outputId": "7449fa52-9ebe-4995-82e2-e7e1c77e0e19"
      },
      "outputs": [
        {
          "ename": "SyntaxError",
          "evalue": "invalid syntax (<ipython-input-4-2d04f6099a43>, line 1)",
          "output_type": "error",
          "traceback": [
            "\u001b[0;36m  File \u001b[0;32m\"<ipython-input-4-2d04f6099a43>\"\u001b[0;36m, line \u001b[0;32m1\u001b[0m\n\u001b[0;31m    10!\u001b[0m\n\u001b[0m      ^\u001b[0m\n\u001b[0;31mSyntaxError\u001b[0m\u001b[0;31m:\u001b[0m invalid syntax\n"
          ]
        }
      ],
      "source": [
        "10!"
      ]
    },
    {
      "cell_type": "markdown",
      "metadata": {
        "id": "1IitwCamPqiv"
      },
      "source": [
        "`SyntaxError: invalid syntax` のようなエラーが表示されたことと思います．\"Syntax\" は文法的規則のことを指し，このエラーはプログラミング言語である Python の文法に従っていないコードが入力されたことが原因とわかります．\n",
        "\n",
        "より詳しく見ると，入力したコードである「`10!`」の下の行に，エラーが出た位置を表す「`^`」の文字があり，「`!`」のところで Python にとってコードの意味が解釈できなくなったことがわかります．\n",
        "\n",
        "エラーが起きた場合，ノートブック上にエラーの詳細を記したメッセージが表示され，コードの実行は停止します．ただし，エラー発生前に行った処理は取り消されません．\n",
        "\n",
        "次に，以下の空（カラ）のコードセルに `x` と入力して実行してみてください（エラーが出ます）．"
      ]
    },
    {
      "cell_type": "code",
      "execution_count": null,
      "metadata": {
        "colab": {
          "base_uri": "https://localhost:8080/",
          "height": 147
        },
        "id": "v5zUIIHCPqiv",
        "outputId": "cbb6d218-8697-473b-e036-de8ddd4a3703"
      },
      "outputs": [
        {
          "ename": "NameError",
          "evalue": "name 'x' is not defined",
          "output_type": "error",
          "traceback": [
            "\u001b[0;31m---------------------------------------------------------------------------\u001b[0m",
            "\u001b[0;31mNameError\u001b[0m                                 Traceback (most recent call last)",
            "\u001b[0;32m<ipython-input-5-6fcf9dfbd479>\u001b[0m in \u001b[0;36m<cell line: 1>\u001b[0;34m()\u001b[0m\n\u001b[0;32m----> 1\u001b[0;31m \u001b[0mx\u001b[0m\u001b[0;34m\u001b[0m\u001b[0;34m\u001b[0m\u001b[0m\n\u001b[0m",
            "\u001b[0;31mNameError\u001b[0m: name 'x' is not defined"
          ]
        }
      ],
      "source": [
        "x"
      ]
    },
    {
      "cell_type": "markdown",
      "metadata": {
        "id": "1Eu8oY1dPqiv"
      },
      "source": [
        "`NameError: name 'x' is not defined` のようなエラーが表示されたはずです．Mathematica では「$x$ を $x$ として扱うこと」が可能でしたが，Python では，記号や文字列を使うためには，最初に定義しなければならないことがわかります．\n",
        "\n",
        "Mathematica (の背後にあるプログラミング言語である \"Wolfram 言語\") では，なるべく通常の数学的な表記に沿ってコードが解釈されるように配慮されていました．一方で，Python は最初から「プログラミングのためのプログラミング言語」として作られているため，Mathematica で可能だった記法ができないこともよくあります．この授業では，混同しやすい点があった場合，注意を促していきたいと思います．\n",
        "\n",
        "さて，下記のコードを1つずつ実行してみましょう．"
      ]
    },
    {
      "cell_type": "code",
      "execution_count": null,
      "metadata": {
        "id": "_1FBnWkMPqiv"
      },
      "outputs": [],
      "source": [
        "x = 10"
      ]
    },
    {
      "cell_type": "code",
      "execution_count": null,
      "metadata": {
        "id": "jQ-XpkXiPqiv"
      },
      "outputs": [],
      "source": [
        "x = 10"
      ]
    },
    {
      "cell_type": "markdown",
      "metadata": {
        "id": "DCT5iYklPqiv"
      },
      "source": [
        "上記では，最初に `x` を `10` と定義しました．プログラミングでは，通常，これを**変数 `x` に `10` を代入する**と表現します．コード `x = 10` を実行して以降，変数 `x` の**値**が 10 となったため，その時点でコード `x` を実行すれば，結果は 10 となります．一回変数に代入が行われると，それ以降に再び代入や削除などが行われない限り，変数の値はそのままに保たれます．\n",
        "\n",
        "`del` の後に半角スペースを空けて変数の名前を書いたコードを実行することで，変数を削除（定義をクリア）することができます．\"del\" は「削除」\"delete\" の略となります．"
      ]
    },
    {
      "cell_type": "code",
      "execution_count": null,
      "metadata": {
        "id": "_FkGvJc5Pqiv"
      },
      "outputs": [],
      "source": [
        "del x"
      ]
    },
    {
      "cell_type": "code",
      "execution_count": null,
      "metadata": {
        "id": "dcg5OhI0Pqiv"
      },
      "outputs": [],
      "source": [
        "x"
      ]
    },
    {
      "cell_type": "markdown",
      "metadata": {
        "id": "GWHC5AwGPqiv"
      },
      "source": [
        "なお，複数のコードであっても，同じコードセルの中で改行して並べることで，順に実行することができます（やってみましょう）．"
      ]
    },
    {
      "cell_type": "code",
      "execution_count": null,
      "metadata": {
        "id": "I1GFs1sePqiv"
      },
      "outputs": [],
      "source": [
        "x = -8\n",
        "x = 2"
      ]
    },
    {
      "cell_type": "markdown",
      "metadata": {
        "id": "8imuO1uHPqiv"
      },
      "source": [
        "\n",
        "では，レポート課題に取り組んでください．(コードを実行し，その結果が書かれたノートブックをダウンロードして，さらに CoursePower にアップロードする練習です．)\n"
      ]
    },
    {
      "cell_type": "markdown",
      "metadata": {
        "id": "Y14lH_uX0GsQ"
      },
      "source": [
        "-----------------------------------------------------------------------\n",
        "## レポート課題 1\n",
        "\n",
        "以下の2つの課題に取り組め．\n",
        "\n",
        "作成したプログラムの提出方法は以下になります．\n",
        "\n",
        "1. このノートブックに直接プログラムを記入して実行した後に，ノートブックファイルを Google Colab (Google Drive) 上に保存し，さらに手元の端末にダウンロードする．  \n",
        "※ 手元の端末で，ダウンロードしたノートブックファイル (.ipynb ファイル) を保管しておくためのフォルダを作成すること．\n",
        "\n",
        "2. ダウンロード後に，ファイル名を以下に変更する．  \n",
        "提出ファイル名：CBReport01_学籍番号_英字氏名.ipynb  \n",
        "（例：学籍番号 12345678 の青山太郎の場合は `CBReport01_12345678_TaroAoyama.ipynb`）\n",
        "\n",
        "3. CoursePower の「レポート第1回」からファイルを提出する．\n"
      ]
    },
    {
      "cell_type": "markdown",
      "metadata": {
        "id": "wnmBQie00GsR"
      },
      "source": [
        "------------------------------------------------------------------------"
      ]
    },
    {
      "cell_type": "markdown",
      "metadata": {
        "id": "ku3r1Xuj0GsQ"
      },
      "source": [
        "### 課題 1-1\n",
        "\n",
        "変数 a を 3，変数 b を 7 と定義してから，足し算「a+b」を実行するコードを書き，実行せよ．  \n",
        "なお，コードは1つのセルにまとめても，複数のセルに1つずつ入力してもよい．\n",
        "\n",
        "[プログラムを記入するためのセルの追加方法]  \n",
        "ウインドウの左上のほうにある「＋コード」あるいは「＋Code」をクリック"
      ]
    },
    {
      "cell_type": "code",
      "execution_count": 9,
      "metadata": {
        "colab": {
          "base_uri": "https://localhost:8080/"
        },
        "id": "HYCo1U5D84qL",
        "outputId": "e47a43a5-a920-4a3a-c126-9e3e75cce988"
      },
      "outputs": [
        {
          "data": {
            "text/plain": [
              "10"
            ]
          },
          "execution_count": 9,
          "metadata": {},
          "output_type": "execute_result"
        }
      ],
      "source": [
        "a = 3\n",
        "b = 7\n",
        "a + b"
      ]
    },
    {
      "cell_type": "markdown",
      "metadata": {
        "id": "nDGF0TOKPqiw"
      },
      "source": [
        "------------------------------------------------------------------------\n",
        "### 課題 1-2"
      ]
    },
    {
      "cell_type": "markdown",
      "metadata": {
        "id": "4qkE79tyPqiw"
      },
      "source": [
        "エラーを起こすコードを1つ作成し，実行せよ．  \n",
        "可能であれば，この資料で説明した以外のエラーを起こすこと．"
      ]
    },
    {
      "cell_type": "code",
      "execution_count": 10,
      "metadata": {
        "colab": {
          "base_uri": "https://localhost:8080/",
          "height": 110
        },
        "id": "r8EZ6HwUPqiw",
        "outputId": "8406ee6a-959a-4df0-ba15-5bc648585a3d"
      },
      "outputs": [
        {
          "ename": "SyntaxError",
          "evalue": "invalid syntax (<ipython-input-10-2514bc706f37>, line 1)",
          "output_type": "error",
          "traceback": [
            "\u001b[0;36m  File \u001b[0;32m\"<ipython-input-10-2514bc706f37>\"\u001b[0;36m, line \u001b[0;32m1\u001b[0m\n\u001b[0;31m    x + 2!\u001b[0m\n\u001b[0m         ^\u001b[0m\n\u001b[0;31mSyntaxError\u001b[0m\u001b[0;31m:\u001b[0m invalid syntax\n"
          ]
        }
      ],
      "source": [
        "x + 2!"
      ]
    },
    {
      "cell_type": "markdown",
      "metadata": {
        "id": "JsGL3cUvPqiw"
      },
      "source": []
    }
  ],
  "metadata": {
    "colab": {
      "provenance": []
    },
    "kernelspec": {
      "display_name": "Python 3 (ipykernel)",
      "language": "python",
      "name": "python3"
    },
    "language_info": {
      "codemirror_mode": {
        "name": "ipython",
        "version": 3
      },
      "file_extension": ".py",
      "mimetype": "text/x-python",
      "name": "python",
      "nbconvert_exporter": "python",
      "pygments_lexer": "ipython3",
      "version": "3.9.13"
    },
    "vscode": {
      "interpreter": {
        "hash": "5315ae3fd6c0fedbfa62f4dc4a1864d51f63ce0027740b00abe23bd790e5ebdc"
      }
    }
  },
  "nbformat": 4,
  "nbformat_minor": 0
}
