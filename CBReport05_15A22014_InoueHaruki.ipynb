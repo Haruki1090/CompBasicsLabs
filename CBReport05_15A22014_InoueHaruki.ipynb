{
 "cells": [
  {
   "cell_type": "markdown",
   "metadata": {},
   "source": [
    "## レポート課題5-1"
   ]
  },
  {
   "cell_type": "markdown",
   "metadata": {},
   "source": [
    "10 以下の適当な正の数の組を 5 個入れたリストを用意し，任意の 10 以下の正の整数をキーボードから受け取って，その数がリストに入っているか否かを判定するプログラムを書きなさい．"
   ]
  },
  {
   "cell_type": "code",
   "execution_count": 15,
   "metadata": {},
   "outputs": [
    {
     "name": "stdout",
     "output_type": "stream",
     "text": [
      "生成されたリスト:  [10, 5, 3, 7, 1]\n",
      "数 7 はリスト内に存在します\n"
     ]
    }
   ],
   "source": [
    "import random\n",
    "\n",
    "numbers_list = []\n",
    "\n",
    "for n in range(5):\n",
    "    numbers_list.append(random.randint(1,10))\n",
    "    # print(numbers_list) # appendのテスト\n",
    "\n",
    "what_is_the_number = int(input(\"1から10までの数字を入力してください: \"))\n",
    "\n",
    "print(\"生成されたリスト: \", numbers_list)\n",
    "\n",
    "if what_is_the_number in numbers_list:\n",
    "    print(\"数\", what_is_the_number, \"はリスト内に存在します\")\n",
    "else:\n",
    "    print(\"数\", what_is_the_number, \"はリスト内に存在しません\")"
   ]
  },
  {
   "cell_type": "markdown",
   "metadata": {},
   "source": [
    "**ヒント**\n",
    "\n",
    "1. 10 以下の適当な数 5 つを入れたリストを用意する．\n",
    "2. キーボードから何らかの数字を受け取る．\n",
    "3. リストの 5 つの数字と入力された数 a を比較する．  \n",
    "    A. リスト内に数字が存在する場合，「数 a はリスト内に存在します」と出力  \n",
    "    B. リスト内に数字が存在しない場合，「数 a はリスト内に存在しない」と出力\n",
    "4. 終了"
   ]
  },
  {
   "cell_type": "markdown",
   "metadata": {},
   "source": [
    "## レポート課題5-2"
   ]
  },
  {
   "cell_type": "markdown",
   "metadata": {},
   "source": [
    "CP_04data.txt は，青空文庫 (※) からダウンロードした「吾輩は猫である」[https://www.aozora.gr.jp/cards/000148/card789.html] の本文部分である．この文章の中に猫という文字は何個あるか? CP_04data.txt を読み込み，次の2つの方法で「猫」の数を数えて出力するプログラムを作成しなさい．\n",
    "\n",
    "1. 文字列型の count() メソッドを使用した方法．\n",
    "2. 文字列型の count() メソッドを使用せずに数える方法．(他の人と異なるプログラムを評価します) \n",
    "\n",
    "2つの方法を実行する単一のプログラムを提出すること．"
   ]
  },
  {
   "cell_type": "code",
   "execution_count": 6,
   "metadata": {},
   "outputs": [
    {
     "name": "stdout",
     "output_type": "stream",
     "text": [
      "猫の出現回数(Count()の結果):  261\n",
      "猫の出現回数(filter()の結果):  261\n"
     ]
    }
   ],
   "source": [
    "opend_file = open(\"CP_04data.txt\", \"r\", encoding=\"shift-jis\") # エンコードはshift-jisを指定\n",
    "scaned_text = opend_file.read()\n",
    "\n",
    "# 方法1: Count()を利用し、猫の出現回数をカウントする方法\n",
    "sum_by_count = scaned_text.count(\"猫\") \n",
    "\n",
    "# 方法2: List変換しfilter()を利用することで、猫の出現回数をカウントする方法\n",
    "converted_list = list(scaned_text) # 変換\n",
    "filtered_list = list(filter(lambda char: char == '猫', converted_list)) #filter()により猫のみを抽出する\n",
    "\n",
    "print(\"猫の出現回数(Count()の結果): \", sum_by_count) # 方法1の出力\n",
    "print(\"猫の出現回数(filter()の結果): \", len(filtered_list)) # 方法2の出力"
   ]
  },
  {
   "cell_type": "markdown",
   "metadata": {},
   "source": [
    "**ヒント**\n",
    "\n",
    "青空文庫の本文は，[https://www.aozora.gr.jp/KOSAKU/textfile_checklist/index.html] にあるように JIS X 0208 の Shift_JIS によって入力されている．したがって，`open()` 関数に対して，`encoding` として `\"shift-jis\"` もしくは `\"cp932\"` を指定する必要がある．  \n",
    "（参考：「Python♪Windowsの「Shift JIS」の落とし穴」 [https://snowtree-injune.com/2020/05/15/codec-py003/] ）\n",
    "\n",
    "\n",
    "(※) 青空文庫は，著作権法による著作財産権の保護期間が過ぎた，もしくは著作権者が当該サイトでの公開に同意した日本の文学作品等を無料で公開するサイト．多くの文学作品が気軽に読める一方で，出版社から刊行される「全集」のようにプロによる校訂が行われた標準的なテキストと異なる場合があり，文学や歴史の研究に用いる上では注意が必要である．"
   ]
  },
  {
   "cell_type": "markdown",
   "metadata": {},
   "source": [
    "##########################################################################################"
   ]
  },
  {
   "cell_type": "markdown",
   "metadata": {},
   "source": [
    "レポート課題 5-1～5-2 に取り組み，プログラムと実行結果を .ipynb 形式のファイルに保存して CoursePower から提出しなさい．\n",
    "\n",
    "提出ファイル名：CBReport05_学籍番号_英字氏名.ipynb\n",
    "\n",
    " 例えば，学籍番号12345678の青山太郎の場合は，CBReport05_12345678_AoyamaTaro.ipynb　というファイル名で提出する．\n"
   ]
  },
  {
   "cell_type": "markdown",
   "metadata": {},
   "source": []
  }
 ],
 "metadata": {
  "kernelspec": {
   "display_name": "Python 3 (ipykernel)",
   "language": "python",
   "name": "python3"
  },
  "language_info": {
   "codemirror_mode": {
    "name": "ipython",
    "version": 3
   },
   "file_extension": ".py",
   "mimetype": "text/x-python",
   "name": "python",
   "nbconvert_exporter": "python",
   "pygments_lexer": "ipython3",
   "version": "3.9.13"
  },
  "vscode": {
   "interpreter": {
    "hash": "5315ae3fd6c0fedbfa62f4dc4a1864d51f63ce0027740b00abe23bd790e5ebdc"
   }
  }
 },
 "nbformat": 4,
 "nbformat_minor": 2
}
